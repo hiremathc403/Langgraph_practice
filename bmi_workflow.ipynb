{
 "cells": [
  {
   "cell_type": "code",
   "execution_count": null,
   "id": "e972c49e",
   "metadata": {},
   "outputs": [],
   "source": [
    "pip install langgraph"
   ]
  },
  {
   "cell_type": "code",
   "execution_count": 6,
   "id": "a2acd922",
   "metadata": {},
   "outputs": [],
   "source": [
    "from langgraph.graph import StateGraph, START, END\n",
    "from typing import TypedDict"
   ]
  },
  {
   "cell_type": "code",
   "execution_count": 4,
   "id": "e86bf35b",
   "metadata": {},
   "outputs": [],
   "source": [
    "class BMIState(TypedDict):\n",
    "    weight: float\n",
    "    height: float\n",
    "    bmi: float"
   ]
  },
  {
   "cell_type": "code",
   "execution_count": 5,
   "id": "028ca4f7",
   "metadata": {},
   "outputs": [],
   "source": [
    "graph = StateGraph(BMIState)"
   ]
  },
  {
   "cell_type": "code",
   "execution_count": 8,
   "id": "2c5e9285",
   "metadata": {},
   "outputs": [],
   "source": [
    "def calculate_bmi(state: BMIState) -> BMIState:\n",
    "    \"\"\"Calculate BMI from weight and height.\"\"\"\n",
    "    if state['height'] <= 0:\n",
    "        raise ValueError(\"Height must be greater than zero.\")\n",
    "    state['bmi'] = state['weight'] / (state['height'] ** 2)\n",
    "    return state"
   ]
  },
  {
   "cell_type": "code",
   "execution_count": 9,
   "id": "370d8b12",
   "metadata": {},
   "outputs": [],
   "source": [
    "#add the start and end nodes\n",
    "graph.add_node('calculate_bmi', calculate_bmi)\n",
    "\n",
    "#add edges to the graph\n",
    "graph.add_edge(START, 'calculate_bmi')\n",
    "graph.add_edge('calculate_bmi', END)\n",
    "\n",
    "#compile the graph\n",
    "workflow = graph.compile()\n",
    "\n",
    "# Run the workflow with an example state\n",
    "initial_state = BMIState(weight=70, height=1.75, bmi=0.0)\n",
    "\n"
   ]
  },
  {
   "cell_type": "code",
   "execution_count": 11,
   "id": "887f3f15",
   "metadata": {},
   "outputs": [
    {
     "data": {
      "text/plain": [
       "{'weight': 70, 'height': 1.75, 'bmi': 22.857142857142858}"
      ]
     },
     "execution_count": 11,
     "metadata": {},
     "output_type": "execute_result"
    }
   ],
   "source": [
    "result_state = workflow.invoke(initial_state)\n",
    "\n",
    "result_state"
   ]
  }
 ],
 "metadata": {
  "kernelspec": {
   "display_name": ".venv",
   "language": "python",
   "name": "python3"
  },
  "language_info": {
   "codemirror_mode": {
    "name": "ipython",
    "version": 3
   },
   "file_extension": ".py",
   "mimetype": "text/x-python",
   "name": "python",
   "nbconvert_exporter": "python",
   "pygments_lexer": "ipython3",
   "version": "3.12.10"
  }
 },
 "nbformat": 4,
 "nbformat_minor": 5
}
