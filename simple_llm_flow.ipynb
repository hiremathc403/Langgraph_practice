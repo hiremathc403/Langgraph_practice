{
 "cells": [
  {
   "cell_type": "code",
   "execution_count": 27,
   "id": "8d2de34a",
   "metadata": {},
   "outputs": [],
   "source": [
    "from langgraph.graph import StateGraph, START, END\n",
    "from langchain_google_genai import ChatGoogleGenerativeAI\n",
    "from typing import TypedDict"
   ]
  },
  {
   "cell_type": "code",
   "execution_count": 28,
   "id": "2073e4e4",
   "metadata": {},
   "outputs": [],
   "source": [
    "import os\n",
    "from dotenv import load_dotenv\n",
    "\n",
    "load_dotenv()\n",
    "api_key = os.getenv(\"gemini\")"
   ]
  },
  {
   "cell_type": "code",
   "execution_count": 29,
   "id": "2cdc0033",
   "metadata": {},
   "outputs": [],
   "source": [
    "model = ChatGoogleGenerativeAI(temperature=0, model=\"gemma-3-27b-it\", api_key= api_key)"
   ]
  },
  {
   "cell_type": "code",
   "execution_count": null,
   "id": "83c95f30",
   "metadata": {},
   "outputs": [],
   "source": [
    "class SimpleLLMFlow(TypedDict):\n",
    "    question: str\n",
    "    answer: str\n",
    "    "
   ]
  },
  {
   "cell_type": "code",
   "execution_count": 31,
   "id": "98acef69",
   "metadata": {},
   "outputs": [],
   "source": [
    "graph = StateGraph(SimpleLLMFlow)"
   ]
  },
  {
   "cell_type": "code",
   "execution_count": 32,
   "id": "aa25c6ce",
   "metadata": {},
   "outputs": [],
   "source": [
    "def llm_qa(state: SimpleLLMFlow) -> SimpleLLMFlow:\n",
    "    question = state['question']\n",
    "    response = model.invoke(question)\n",
    "    state['answer'] = response.content\n",
    "    return state\n"
   ]
  },
  {
   "cell_type": "code",
   "execution_count": 33,
   "id": "63c87430",
   "metadata": {},
   "outputs": [],
   "source": [
    "graph.add_node('llm_qa', llm_qa)\n",
    "\n",
    "graph.add_edge(START, 'llm_qa')\n",
    "graph.add_edge('llm_qa', END)\n",
    "\n",
    "workflow= graph.compile()"
   ]
  },
  {
   "cell_type": "code",
   "execution_count": 35,
   "id": "13799cf9",
   "metadata": {},
   "outputs": [
    {
     "name": "stdout",
     "output_type": "stream",
     "text": [
      "{'question': 'what is the capital of india?', 'answer': 'The capital of India is **New Delhi**. \\n\\nWhile Mumbai is the financial capital and a very important city, New Delhi is the seat of the government and officially the capital.'}\n"
     ]
    }
   ],
   "source": [
    "initial_state = {\"question\": \"what is the capital of india?\"}\n",
    "\n",
    "final= workflow.invoke(initial_state)\n",
    "\n",
    "print(final)"
   ]
  }
 ],
 "metadata": {
  "kernelspec": {
   "display_name": ".venv",
   "language": "python",
   "name": "python3"
  },
  "language_info": {
   "codemirror_mode": {
    "name": "ipython",
    "version": 3
   },
   "file_extension": ".py",
   "mimetype": "text/x-python",
   "name": "python",
   "nbconvert_exporter": "python",
   "pygments_lexer": "ipython3",
   "version": "3.12.10"
  }
 },
 "nbformat": 4,
 "nbformat_minor": 5
}
