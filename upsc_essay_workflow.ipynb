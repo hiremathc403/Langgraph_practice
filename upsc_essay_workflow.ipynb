{
 "cells": [
  {
   "cell_type": "code",
   "execution_count": 40,
   "id": "c048ef17",
   "metadata": {},
   "outputs": [],
   "source": [
    "from langgraph.graph import StateGraph, START, END\n",
    "from langchain_google_genai import ChatGoogleGenerativeAI\n",
    "from typing import TypedDict, Annotated\n",
    "import os\n",
    "from dotenv import load_dotenv\n"
   ]
  },
  {
   "cell_type": "code",
   "execution_count": 42,
   "id": "a838ad0b",
   "metadata": {},
   "outputs": [],
   "source": [
    "load_dotenv()\n",
    "api_key = os.getenv(\"gemini\")\n"
   ]
  },
  {
   "cell_type": "code",
   "execution_count": 43,
   "id": "033e78c3",
   "metadata": {},
   "outputs": [],
   "source": [
    "model = ChatGoogleGenerativeAI(temperature=0, model=\"gemma-3-4b-it\", api_key= api_key)"
   ]
  },
  {
   "cell_type": "code",
   "execution_count": 44,
   "id": "e29407e8",
   "metadata": {},
   "outputs": [],
   "source": [
    "from pydantic import BaseModel, Field"
   ]
  },
  {
   "cell_type": "code",
   "execution_count": 45,
   "id": "79ba14de",
   "metadata": {},
   "outputs": [],
   "source": [
    "class EvaluationSchema(BaseModel):\n",
    "    feedback: str = Field(description=\"Feedback on the essay\")\n",
    "    score: int = Field(description=\"Score for the essay out of 10\", ge=0, le=10 )\n",
    "    "
   ]
  },
  {
   "cell_type": "code",
   "execution_count": 46,
   "id": "83a86b11",
   "metadata": {},
   "outputs": [],
   "source": [
    "essay = \"\"\" Essay on Indian Economy\n",
    "\n",
    "The Indian economy is one of the fastest-growing and most diverse economies in the world. It reflects a blend of traditional agriculture, modern industries, and a strong service sector. Over the years, India has transformed from being an agrarian economy to an emerging global economic power.\n",
    "\n",
    "Historical Background\n",
    "\n",
    "India’s economy has evolved significantly since independence in 1947. Initially, the focus was on self-reliance, with large-scale public sector enterprises and five-year plans guiding development. However, the growth remained slow during the first few decades. The economic reforms of 1991 marked a turning point, when liberalization, privatization, and globalization (LPG) policies opened India’s economy to the world.\n",
    "\n",
    "Sectors of the Economy\n",
    "\n",
    "The Indian economy is broadly divided into three sectors:\n",
    "\n",
    "Agriculture: Agriculture has traditionally been the backbone of India’s economy, employing a large portion of the population. Although its contribution to GDP has declined, it remains vital for food security and rural livelihoods.\n",
    "\n",
    "Industry: The industrial sector includes manufacturing, mining, and construction. It plays a major role in infrastructure development and job creation. The “Make in India” initiative has further encouraged industrial growth.\n",
    "\n",
    "Services: The service sector is the largest contributor to India’s GDP. IT, telecommunications, finance, education, healthcare, and tourism are major components. India is globally recognized for its IT and software services, with cities like Bengaluru and Hyderabad serving as technology hubs.\n",
    "\n",
    "Strengths of the Indian Economy\n",
    "\n",
    "Young Population: With a large youth workforce, India has the potential to become a global economic leader.\n",
    "\n",
    "Diverse Resources: Rich natural resources, fertile land, and a wide range of industries contribute to economic stability.\n",
    "\n",
    "Growing Middle Class: Rising incomes and urbanization fuel domestic consumption and demand.\n",
    "\n",
    "Challenges\n",
    "\n",
    "Despite progress, the Indian economy faces several challenges:\n",
    "\n",
    "Unemployment and Underemployment: Many youth struggle to find suitable jobs.\n",
    "\n",
    "Income Inequality: The gap between the rich and poor continues to widen.\n",
    "\n",
    "Agricultural Distress: Farmers often face issues like low income, climate change, and lack of infrastructure.\n",
    "\n",
    "Corruption and Red Tape: Bureaucratic hurdles can slow down development and discourage investment.\n",
    "\n",
    "Future Prospects\n",
    "\n",
    "India’s economy has immense potential for growth. With digitalization, renewable energy, and advancements in technology, the future looks promising. Government initiatives like Digital India, Startup India, and Atmanirbhar Bharat aim to strengthen self-reliance and innovation. If challenges are addressed effectively, India can achieve sustainable and inclusive growth in the coming decades.\n",
    "\n",
    "Conclusion\n",
    "\n",
    "The Indian economy stands at a crucial juncture, balancing its rich traditions with modern aspirations. With its vast human resources, technological advancements, and reform-oriented policies, India is poised to become a global economic powerhouse. The journey ahead will require inclusive development, where the benefits of growth reach every section of society.\"\"\""
   ]
  },
  {
   "cell_type": "code",
   "execution_count": 47,
   "id": "8e7220c4",
   "metadata": {},
   "outputs": [],
   "source": [
    "prompt = f\"\"\"Evaluate the following essay on the Indian economy and provide feedback and a score out of 10.{essay}\"\"\""
   ]
  },
  {
   "cell_type": "code",
   "execution_count": 48,
   "id": "9189ec10",
   "metadata": {},
   "outputs": [
    {
     "data": {
      "text/plain": [
       "'Okay, here’s an evaluation of the essay on the Indian Economy, followed by a score and detailed feedback:\\n\\n**Overall Score: 7.5/10**\\n\\n**Strengths:**\\n\\n* **Clear Structure:** The essay follows a logical structure – historical background, sector breakdown, strengths, challenges, future prospects, and conclusion. This makes it easy to follow and understand.\\n* **Good Overview:** It provides a decent, accessible overview of the Indian economy, hitting on key aspects like the shift from agriculture, the impact of liberalization, and the importance of the service sector.\\n* **Relevant Points:** The identified strengths (young population, diverse resources, growing middle class) and challenges (unemployment, inequality, agricultural distress) are all accurate and significant issues facing India.\\n* **Mention of Key Initiatives:**  Including “Make in India,” “Digital India,” “Startup India,” and “Atmanirbhar Bharat” demonstrates awareness of current government policies.\\n* **Accessible Language:** The writing is clear and avoids overly technical jargon, making it suitable for a general audience.\\n\\n\\n**Weaknesses & Areas for Improvement:**\\n\\n* **Lack of Depth:** The essay is largely descriptive and doesn’t delve deeply into *why* things are happening or the *implications* of these trends. It states facts but doesn’t analyze them critically. For example, it mentions the 1991 reforms but doesn’t explain *how* they fundamentally changed the economy.\\n* **Superficial Analysis of Challenges:** While the challenges are listed, the essay doesn’t explore them in sufficient detail.  “Income inequality” is mentioned, but the *causes* and *consequences* aren’t discussed. Similarly, “agricultural distress” is briefly touched upon, but the complexities of land ownership, water scarcity, and market access aren’t addressed.\\n* **Limited Data/Evidence:** The essay lacks specific data or statistics to support its claims.  For example, stating that the service sector is the largest contributor to GDP is good, but citing the percentage would strengthen the point.  Similarly, mentioning the youth population would be more impactful with a statistic on the percentage of the population under 25.\\n* **Overly Optimistic Tone:** The conclusion leans towards overly optimistic pronouncements (\"poised to become a global economic powerhouse\"). While India has potential, acknowledging the significant hurdles and the need for sustained effort would add more nuance.\\n* **Missing Nuances:** The essay presents a somewhat simplified view of the economy. It doesn’t acknowledge regional disparities, the role of state governments, or the impact of global economic trends beyond just “globalization.”\\n\\n\\n\\n**Specific Suggestions for Improvement:**\\n\\n* **Expand on the 1991 Reforms:**  Discuss the specific changes – deregulation, opening to foreign investment, dismantling of licenses – and their immediate effects.\\n* **Elaborate on Challenges:**  Instead of just listing challenges, briefly explain *why* they exist. For example, for unemployment, discuss the mismatch between skills and job availability. For agricultural distress, mention the impact of monsoons, rising input costs, and lack of access to credit.\\n* **Include Data:**  Add statistics to support claims.  Examples: GDP growth rates, poverty rates, literacy rates, urbanization percentages.\\n* **Consider Regional Variations:** Briefly acknowledge that the Indian economy isn’t uniform – there are significant differences between states.\\n* **Add a Brief Discussion of Global Context:**  Mention how global factors (e.g., trade agreements, commodity prices, geopolitical events) influence the Indian economy.\\n\\n**Revised Conclusion Suggestion:**\\n\\n“The Indian economy stands at a critical juncture, balancing its rich traditions with the demands of a rapidly changing global landscape. While significant progress has been made, addressing persistent challenges like income inequality and agricultural distress is paramount.  With continued strategic investments in infrastructure, education, and technology, and a commitment to inclusive growth, India has the potential to become a major global economic force, though realizing this potential will require sustained effort and a realistic assessment of the obstacles ahead.”\\n\\n\\nDo you want me to elaborate on any specific aspect of the feedback, or perhaps provide an example of how to incorporate more data into the essay?'"
      ]
     },
     "execution_count": 48,
     "metadata": {},
     "output_type": "execute_result"
    }
   ],
   "source": [
    "model.invoke(prompt).content"
   ]
  },
  {
   "cell_type": "code",
   "execution_count": 50,
   "id": "2194dc4f",
   "metadata": {},
   "outputs": [],
   "source": [
    "import operator"
   ]
  },
  {
   "cell_type": "code",
   "execution_count": 80,
   "id": "c2274c5b",
   "metadata": {},
   "outputs": [],
   "source": [
    "class UPSCState(TypedDict):\n",
    "    essay: Annotated[list[str], operator.getitem]\n",
    "    launguage_feedback: str\n",
    "    analysis_feedback : str\n",
    "    clarity_feedback : str\n",
    "    overall_feedback : str\n",
    "    #individual_scores: Annotated[list[int], operator.add]\n",
    "    #avg_score: float\n",
    "    \n"
   ]
  },
  {
   "cell_type": "code",
   "execution_count": 65,
   "id": "06de422f",
   "metadata": {},
   "outputs": [],
   "source": [
    "def eavluate_launguage(state: UPSCState) -> UPSCState:\n",
    "    prompt = f\"\"\"Evaluate the launguage quality following essay provide feedback and a score out of 10.{state['essay']}\"\"\"\n",
    "    response = model.invoke(prompt).content\n",
    "    state['launguage_feedback'] = response\n",
    "    #state['individual_scores'].append(response.score)\n",
    "    return state"
   ]
  },
  {
   "cell_type": "code",
   "execution_count": 70,
   "id": "53ec7de3",
   "metadata": {},
   "outputs": [],
   "source": [
    "def eavluate_analysis(state: UPSCState) -> UPSCState:\n",
    "    prompt = f\"\"\"Evaluate the depth of the analysis following essay and provide feedback and a score out of 10.{state['essay']}\"\"\"\n",
    "    response = model.invoke(prompt).content\n",
    "    state['analysis_feedback'] = response\n",
    "    #state['individual_scores'].append(response.score)\n",
    "    return state"
   ]
  },
  {
   "cell_type": "code",
   "execution_count": 71,
   "id": "a5b776c8",
   "metadata": {},
   "outputs": [],
   "source": [
    "def eavluate_clarity(state: UPSCState) -> UPSCState:\n",
    "    prompt = f\"\"\"Evaluate the clarity of thought the following essay and provide feedback and a score out of 10.{state['essay']}\"\"\"\n",
    "    response = model.invoke(prompt).content\n",
    "    state['clarity_feedback'] = response\n",
    "    #state['individual_scores'].append(response.score)\n",
    "    return state"
   ]
  },
  {
   "cell_type": "code",
   "execution_count": 72,
   "id": "11c5d145",
   "metadata": {},
   "outputs": [],
   "source": [
    "def eavluate_overall(state: UPSCState) -> UPSCState:\n",
    "    prompt = f\"\"\"Based on the following feedbacks provided, create a summrized feedback \\n launguage feedback: {state['launguage_feedback']}\\n analysis feedback: {state['analysis_feedback']}\\n clarity feedback: {state['clarity_feedback']}\"\"\"\n",
    "    response = model.invoke(prompt).content\n",
    "    state['overall_feedback'] = response\n",
    "    #state['individual_scores'].append(response.score)\n",
    "    #state['avg_score'] = sum(state['individual_scores']) / len(state['individual_scores'])\n",
    "    return state"
   ]
  },
  {
   "cell_type": "code",
   "execution_count": 73,
   "id": "b614ae7a",
   "metadata": {},
   "outputs": [
    {
     "data": {
      "text/plain": [
       "<langgraph.graph.state.StateGraph at 0x22c5d7420f0>"
      ]
     },
     "execution_count": 73,
     "metadata": {},
     "output_type": "execute_result"
    }
   ],
   "source": [
    "graph = StateGraph(UPSCState)\n",
    "\n",
    "graph.add_node('eavluate_launguage', eavluate_launguage)\n",
    "graph.add_node('eavluate_analysis', eavluate_analysis)\n",
    "graph.add_node('eavluate_clarity', eavluate_clarity)    \n",
    "graph.add_node('eavluate_overall', eavluate_overall)"
   ]
  },
  {
   "cell_type": "code",
   "execution_count": 74,
   "id": "dcc908b9",
   "metadata": {},
   "outputs": [],
   "source": [
    "graph.add_edge(START, 'eavluate_launguage')\n",
    "graph.add_edge(START, 'eavluate_analysis')   \n",
    "graph.add_edge(START, 'eavluate_clarity')\n",
    "\n",
    "graph.add_edge('eavluate_launguage', 'eavluate_overall')\n",
    "graph.add_edge('eavluate_analysis', 'eavluate_overall')\n",
    "graph.add_edge('eavluate_clarity', 'eavluate_overall')\n",
    "\n",
    "graph.add_edge('eavluate_overall', END)\n",
    "\n",
    "workflow = graph.compile()"
   ]
  },
  {
   "cell_type": "code",
   "execution_count": 75,
   "id": "c5fdda17",
   "metadata": {},
   "outputs": [
    {
     "data": {
      "image/png": "[encoded data removed]",
      "text/plain": [
       "<langgraph.graph.state.CompiledStateGraph object at 0x0000022C5C4FF800>"
      ]
     },
     "execution_count": 75,
     "metadata": {},
     "output_type": "execute_result"
    }
   ],
   "source": [
    "workflow"
   ]
  },
  {
   "cell_type": "code",
   "execution_count": null,
   "id": "7157648f",
   "metadata": {},
   "outputs": [],
   "source": [
    "intial_state = {'essay': essay}\n",
    "\n",
    "workflow.invoke(intial_state)"
   ]
  }
 ],
 "metadata": {
  "kernelspec": {
   "display_name": ".venv",
   "language": "python",
   "name": "python3"
  },
  "language_info": {
   "codemirror_mode": {
    "name": "ipython",
    "version": 3
   },
   "file_extension": ".py",
   "mimetype": "text/x-python",
   "name": "python",
   "nbconvert_exporter": "python",
   "pygments_lexer": "ipython3",
   "version": "3.12.10"
  }
 },
 "nbformat": 4,
 "nbformat_minor": 5
}
